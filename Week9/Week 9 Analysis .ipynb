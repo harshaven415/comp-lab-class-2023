{
 "cells": [
  {
   "cell_type": "markdown",
   "metadata": {},
   "source": [
    "### This Jupyter notebook will analyze the MD trajectories by calculating RMSD and RDF"
   ]
  },
  {
   "cell_type": "code",
   "execution_count": 1,
   "metadata": {},
   "outputs": [
    {
     "data": {
      "text/plain": [
       "'/home/hv454/comp-lab-class-2023/Week9'"
      ]
     },
     "execution_count": 1,
     "metadata": {},
     "output_type": "execute_result"
    }
   ],
   "source": [
    "pwd"
   ]
  },
  {
   "cell_type": "code",
   "execution_count": 3,
   "metadata": {},
   "outputs": [],
   "source": [
    "import numpy as np\n",
    "import MDAnalysis as mda\n",
    "import MDAnalysis.analysis.rdf as rdf\n",
    "from MDAnalysis.analysis import msd\n",
    "import matplotlib.pyplot as mplt"
   ]
  },
  {
   "cell_type": "code",
   "execution_count": 4,
   "metadata": {},
   "outputs": [
    {
     "name": "stderr",
     "output_type": "stream",
     "text": [
      "/ext3/miniconda3/lib/python3.9/site-packages/MDAnalysis/topology/LAMMPSParser.py:631: UserWarning: Guessed all Masses to 1.0\n",
      "  warnings.warn('Guessed all Masses to 1.0')\n"
     ]
    }
   ],
   "source": [
    "#The first thing is to establish a temperature system\n",
    "\n",
    "temperatures = {1.5:10000, 1:50000, 0.9:150000, 0.8:150000,\n",
    "               0.7:180000, 0.65:350000, 0.6:1000000,\n",
    "               0.55:3000000, 0.5:10000000, 0.475:30000000}\n",
    "\n",
    "sims={}\n",
    "\n",
    "for temp in temperatures:\n",
    "    u = mda.Universe(f'Data/equil/kalj_T2_n360_v300_10000_1.lammpstrj',\n",
    "                    f'Data/prod/kalj_T{temp}_n360_v300_prod_{temperatures[temp]}_1.unwrap.dcd',\n",
    "                    topology_format='LAMMPSDUMP')\n",
    "    \n",
    "    sims[temp]=u"
   ]
  },
  {
   "cell_type": "code",
   "execution_count": 5,
   "metadata": {},
   "outputs": [
    {
     "name": "stdout",
     "output_type": "stream",
     "text": [
      "{1.5: <Universe with 360 atoms>, 1: <Universe with 360 atoms>, 0.9: <Universe with 360 atoms>, 0.8: <Universe with 360 atoms>, 0.7: <Universe with 360 atoms>, 0.65: <Universe with 360 atoms>, 0.6: <Universe with 360 atoms>, 0.55: <Universe with 360 atoms>, 0.5: <Universe with 360 atoms>, 0.475: <Universe with 360 atoms>}\n"
     ]
    }
   ],
   "source": [
    "#Now, we have completed getting the RDF Data loaded, next, we run RDF\n",
    "\n",
    "print(sims)"
   ]
  },
  {
   "cell_type": "code",
   "execution_count": 6,
   "metadata": {},
   "outputs": [],
   "source": [
    "g_11s={}\n",
    "for temp in sims:\n",
    "    type1 = sims[temp].select_atoms(\"type 1\")\n",
    "    type2 = sims[temp].select_atoms(\"type 2\")"
   ]
  },
  {
   "cell_type": "code",
   "execution_count": null,
   "metadata": {},
   "outputs": [],
   "source": [
    "#Yeah I thought I could figure this one out but its giving me some issues"
   ]
  }
 ],
 "metadata": {
  "kernelspec": {
   "display_name": "lab_env_2023",
   "language": "python",
   "name": "lab_env_2023"
  },
  "language_info": {
   "codemirror_mode": {
    "name": "ipython",
    "version": 3
   },
   "file_extension": ".py",
   "mimetype": "text/x-python",
   "name": "python",
   "nbconvert_exporter": "python",
   "pygments_lexer": "ipython3",
   "version": "3.9.12"
  }
 },
 "nbformat": 4,
 "nbformat_minor": 4
}
