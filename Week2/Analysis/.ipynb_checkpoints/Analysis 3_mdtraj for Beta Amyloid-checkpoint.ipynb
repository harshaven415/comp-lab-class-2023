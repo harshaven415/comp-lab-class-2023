{
 "cells": [
  {
   "cell_type": "markdown",
   "metadata": {},
   "source": [
    "## This Jupyter notebook uses mdtraj to:\n",
    "#### a) Read in the md trajectory of beta amyloid\n",
    "#### b) Compute the end-end distance at each time, and the radius of gyration at each time\n",
    "#### c) Plot the end-end distance and radius of gyration vs time on the same plot, clearly labeled (same y axis is fine this time)\n",
    "#### d) Plot a normalized histogram of end-end distance and another of radius of gyration\n"
   ]
  },
  {
   "cell_type": "code",
   "execution_count": null,
   "metadata": {},
   "outputs": [],
   "source": []
  }
 ],
 "metadata": {
  "kernelspec": {
   "display_name": "lab_env_2023",
   "language": "python",
   "name": "lab_env_2023"
  },
  "language_info": {
   "codemirror_mode": {
    "name": "ipython",
    "version": 3
   },
   "file_extension": ".py",
   "mimetype": "text/x-python",
   "name": "python",
   "nbconvert_exporter": "python",
   "pygments_lexer": "ipython3",
   "version": "3.9.12"
  }
 },
 "nbformat": 4,
 "nbformat_minor": 4
}
