{
 "cells": [
  {
   "cell_type": "markdown",
   "metadata": {},
   "source": [
    "# This Jupyter notebook uses mdtraj to\n",
    "### a) Read in the ubiquitin structure\n",
    "### b) Print the total number of hydrogen bonds\n",
    "### c) Compute the number of helical amino acids"
   ]
  },
  {
   "cell_type": "code",
   "execution_count": 1,
   "metadata": {},
   "outputs": [],
   "source": [
    "import numpy as np\n",
    "import matplotlib.pyplot as mplt\n",
    "import mdtraj as mdt"
   ]
  },
  {
   "cell_type": "code",
   "execution_count": 16,
   "metadata": {},
   "outputs": [
    {
     "name": "stdout",
     "output_type": "stream",
     "text": [
      "[Errno 2] No such file or directory: 'Data'\n",
      "/scratch/work/courses/CHEM-GA-2671-2023fa/students/hv454/myproject/comp-lab-class-2023/Week2/Data\n"
     ]
    }
   ],
   "source": [
    "cd Data"
   ]
  },
  {
   "cell_type": "code",
   "execution_count": 17,
   "metadata": {},
   "outputs": [
    {
     "name": "stdout",
     "output_type": "stream",
     "text": [
      "1UBQ.pdb\r\n",
      "1UBQ_processed.pdb\r\n",
      "1hz3_T310.run.25000000.edr\r\n",
      "1hz3_T310.run.25000000.energy.out\r\n",
      "1hz3_T310.run.25000000.energy.xvg\r\n",
      "1hz3_T310.start.nowater.gro\r\n",
      "1hz3_T310.stepid25000000.every100ps.nowater.xtc\r\n",
      "get_energy.sh\r\n"
     ]
    }
   ],
   "source": [
    "ls"
   ]
  },
  {
   "cell_type": "code",
   "execution_count": 27,
   "metadata": {},
   "outputs": [],
   "source": [
    "#First, we will use mdtraj to open the structure\n",
    "\n",
    "ubiquitin = mdt.load_pdb('/scratch/work/courses/CHEM-GA-2671-2023fa/students/hv454/myproject/comp-lab-class-2023/Week2/Data/1UBQ_processed.pdb')"
   ]
  },
  {
   "cell_type": "code",
   "execution_count": 28,
   "metadata": {},
   "outputs": [
    {
     "name": "stdout",
     "output_type": "stream",
     "text": [
      "In ubiquitin, there are  57 hydrogen bonds.\n"
     ]
    }
   ],
   "source": [
    "#Next, we will determine the number of H-bonds in the system to print the number of total hydrogen bonds\n",
    "\n",
    "h_bonds = mdt.baker_hubbard(ubiquitin, periodic = False)\n",
    "print('In ubiquitin, there are ',len(h_bonds),'hydrogen bonds.')"
   ]
  },
  {
   "cell_type": "code",
   "execution_count": 30,
   "metadata": {},
   "outputs": [
    {
     "name": "stdout",
     "output_type": "stream",
     "text": [
      "For ubiquitin, we will find 1 helical amino acid.\n"
     ]
    }
   ],
   "source": [
    "#Finally, we need to determine the number of helical amino acids using dssp\n",
    "\n",
    "hlx = mdt.compute_dssp(ubiquitin)\n",
    "print('For ubiquitin, we will find', len(hlx),\"helical amino acid.\")"
   ]
  },
  {
   "cell_type": "code",
   "execution_count": null,
   "metadata": {},
   "outputs": [],
   "source": []
  }
 ],
 "metadata": {
  "kernelspec": {
   "display_name": "lab_env_2023",
   "language": "python",
   "name": "lab_env_2023"
  },
  "language_info": {
   "codemirror_mode": {
    "name": "ipython",
    "version": 3
   },
   "file_extension": ".py",
   "mimetype": "text/x-python",
   "name": "python",
   "nbconvert_exporter": "python",
   "pygments_lexer": "ipython3",
   "version": "3.9.12"
  }
 },
 "nbformat": 4,
 "nbformat_minor": 4
}
