{
 "cells": [
  {
   "cell_type": "markdown",
   "metadata": {},
   "source": [
    "### This Jupyter notebook will align alphafold and colabfold structures with the PDB Crystal Structures"
   ]
  },
  {
   "cell_type": "code",
   "execution_count": 3,
   "metadata": {},
   "outputs": [],
   "source": [
    "import mdtraj as mdt\n",
    "import numpy as np\n",
    "import seaborn as sbn\n",
    "import matplotlib.pyplot as mplt\n",
    "import pandas as pnd\n",
    "import json"
   ]
  },
  {
   "cell_type": "code",
   "execution_count": 4,
   "metadata": {},
   "outputs": [],
   "source": [
    "#First, we will load the crystal structure and the predicted structures\n",
    "\n",
    "crystal = mdt.load('/home/hv454/comp-lab-class-2023/Week7/Inputs/2W9T.pdb')\n",
    "\n",
    "rank_0_AF = mdt.load('/home/hv454/comp-lab-class-2023/Week7/rcsb_pdb_2W9T/ranked_0.pdb')\n",
    "rank_1_AF = mdt.load('/home/hv454/comp-lab-class-2023/Week7/rcsb_pdb_2W9T/ranked_1.pdb')\n",
    "rank_2_AF = mdt.load('/home/hv454/comp-lab-class-2023/Week7/rcsb_pdb_2W9T/ranked_2.pdb')\n",
    "rank_3_AF = mdt.load('/home/hv454/comp-lab-class-2023/Week7/rcsb_pdb_2W9T/ranked_3.pdb')\n",
    "rank_4_AF = mdt.load('/home/hv454/comp-lab-class-2023/Week7/rcsb_pdb_2W9T/ranked_4.pdb')\n",
    "\n",
    "rank_1_C = mdt.load('/home/hv454/comp-lab-class-2023/Week7/Colab_2W9T/test_596c5_unrelaxed_rank_001_alphafold2_ptm_model_5_seed_000.pdb')\n",
    "rank_2_C = mdt.load('/home/hv454/comp-lab-class-2023/Week7/Colab_2W9T/test_596c5_unrelaxed_rank_002_alphafold2_ptm_model_4_seed_000.pdb')\n",
    "rank_3_C = mdt.load('/home/hv454/comp-lab-class-2023/Week7/Colab_2W9T/test_596c5_unrelaxed_rank_003_alphafold2_ptm_model_3_seed_000.pdb')\n",
    "rank_4_C = mdt.load('/home/hv454/comp-lab-class-2023/Week7/Colab_2W9T/test_596c5_unrelaxed_rank_004_alphafold2_ptm_model_1_seed_000.pdb')\n",
    "rank_5_C = mdt.load('/home/hv454/comp-lab-class-2023/Week7/Colab_2W9T/test_596c5_unrelaxed_rank_005_alphafold2_ptm_model_2_seed_000.pdb')\n"
   ]
  },
  {
   "cell_type": "code",
   "execution_count": 7,
   "metadata": {},
   "outputs": [],
   "source": [
    "select_1 = 'name CA'\n",
    "select_2 = 'backbone'\n",
    "select_3 = 'sidechain and not (index == 1000)'"
   ]
  },
  {
   "cell_type": "code",
   "execution_count": 8,
   "metadata": {},
   "outputs": [],
   "source": [
    "pdb_crystal = rank_0_AF.superpose(crystal, 0, atom_indices=crystal.top.select(select_1))"
   ]
  },
  {
   "cell_type": "code",
   "execution_count": null,
   "metadata": {},
   "outputs": [],
   "source": []
  }
 ],
 "metadata": {
  "kernelspec": {
   "display_name": "lab_env_2023",
   "language": "python",
   "name": "lab_env_2023"
  },
  "language_info": {
   "codemirror_mode": {
    "name": "ipython",
    "version": 3
   },
   "file_extension": ".py",
   "mimetype": "text/x-python",
   "name": "python",
   "nbconvert_exporter": "python",
   "pygments_lexer": "ipython3",
   "version": "3.9.12"
  }
 },
 "nbformat": 4,
 "nbformat_minor": 4
}
