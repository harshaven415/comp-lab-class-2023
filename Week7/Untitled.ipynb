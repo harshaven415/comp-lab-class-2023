{
 "cells": [
  {
   "cell_type": "markdown",
   "metadata": {},
   "source": [
    "### This Jupyter notebook will align alphafold and colabfold structures with the PDB Crystal Structures"
   ]
  },
  {
   "cell_type": "code",
   "execution_count": 1,
   "metadata": {},
   "outputs": [],
   "source": [
    "import mdtraj as mdt\n",
    "import numpy as np\n",
    "import seaborn as sbn\n",
    "import matplotlib.pyplot as mplt\n",
    "import pandas as pnd\n",
    "import json"
   ]
  },
  {
   "cell_type": "code",
   "execution_count": 7,
   "metadata": {},
   "outputs": [],
   "source": [
    "#First, we will load the crystal structure and the predicted structures\n",
    "\n",
    "crystal = mdt.load('/home/hv454/comp-lab-class-2023/Week7/Inputs/2W9T.pdb')\n",
    "\n",
    "rank_0_AF = mdt.load('/home/hv454/comp-lab-class-2023/Week7/rcsb_pdb_2W9T/ranked_0.pdb')\n",
    "rank_1_AF = mdt.load('/home/hv454/comp-lab-class-2023/Week7/rcsb_pdb_2W9T/ranked_1.pdb')\n",
    "rank_2_AF = mdt.load('/home/hv454/comp-lab-class-2023/Week7/rcsb_pdb_2W9T/ranked_2.pdb')\n",
    "rank_3_AF = mdt.load('/home/hv454/comp-lab-class-2023/Week7/rcsb_pdb_2W9T/ranked_3.pdb')\n",
    "rank_4_AF = mdt.load('/home/hv454/comp-lab-class-2023/Week7/rcsb_pdb_2W9T/ranked_4.pdb')\n",
    "\n",
    "rank_1_C = mdt.load('/home/hv454/comp-lab-class-2023/Week7/Colab_2W9T/test_596c5_unrelaxed_rank_001_alphafold2_ptm_model_5_seed_000.pdb')\n",
    "rank_2_C = mdt.load('/home/hv454/comp-lab-class-2023/Week7/Colab_2W9T/test_596c5_unrelaxed_rank_002_alphafold2_ptm_model_4_seed_000.pdb')\n",
    "rank_3_C = mdt.load('/home/hv454/comp-lab-class-2023/Week7/Colab_2W9T/test_596c5_unrelaxed_rank_003_alphafold2_ptm_model_3_seed_000.pdb')\n",
    "rank_4_C = mdt.load('/home/hv454/comp-lab-class-2023/Week7/Colab_2W9T/test_596c5_unrelaxed_rank_004_alphafold2_ptm_model_1_seed_000.pdb')\n",
    "rank_5_C = mdt.load('/home/hv454/comp-lab-class-2023/Week7/Colab_2W9T/test_596c5_unrelaxed_rank_005_alphafold2_ptm_model_2_seed_000.pdb')\n"
   ]
  },
  {
   "cell_type": "code",
   "execution_count": 8,
   "metadata": {},
   "outputs": [],
   "source": [
    "select_1 = 'Name CA'\n",
    "select_2 = 'Backbone'\n",
    "select_3 = 'Sidechain and Not (Index == 1000)'"
   ]
  },
  {
   "cell_type": "code",
   "execution_count": 12,
   "metadata": {},
   "outputs": [
    {
     "ename": "ValueError",
     "evalue": "Expected end of text, found 'CA'  (at char 5), (line:1, col:6): Name CA\n                                                                                 ^^^",
     "output_type": "error",
     "traceback": [
      "\u001b[0;31m---------------------------------------------------------------------------\u001b[0m",
      "\u001b[0;31mParseException\u001b[0m                            Traceback (most recent call last)",
      "File \u001b[0;32m/ext3/miniconda3/lib/python3.9/site-packages/mdtraj/core/selection.py:373\u001b[0m, in \u001b[0;36mparse_selection.__call__\u001b[0;34m(self, selection)\u001b[0m\n\u001b[1;32m    372\u001b[0m \u001b[38;5;28;01mtry\u001b[39;00m:\n\u001b[0;32m--> 373\u001b[0m     parse_result \u001b[38;5;241m=\u001b[39m \u001b[38;5;28;43mself\u001b[39;49m\u001b[38;5;241;43m.\u001b[39;49m\u001b[43mexpression\u001b[49m\u001b[38;5;241;43m.\u001b[39;49m\u001b[43mparseString\u001b[49m\u001b[43m(\u001b[49m\u001b[43mselection\u001b[49m\u001b[43m,\u001b[49m\u001b[43m \u001b[49m\u001b[43mparseAll\u001b[49m\u001b[38;5;241;43m=\u001b[39;49m\u001b[38;5;28;43;01mTrue\u001b[39;49;00m\u001b[43m)\u001b[49m\n\u001b[1;32m    374\u001b[0m \u001b[38;5;28;01mexcept\u001b[39;00m ParseException \u001b[38;5;28;01mas\u001b[39;00m e:\n",
      "File \u001b[0;32m/ext3/miniconda3/lib/python3.9/site-packages/pyparsing/core.py:1141\u001b[0m, in \u001b[0;36mParserElement.parse_string\u001b[0;34m(self, instring, parse_all, parseAll)\u001b[0m\n\u001b[1;32m   1139\u001b[0m     \u001b[38;5;28;01melse\u001b[39;00m:\n\u001b[1;32m   1140\u001b[0m         \u001b[38;5;66;03m# catch and re-raise exception from here, clearing out pyparsing internal stack trace\u001b[39;00m\n\u001b[0;32m-> 1141\u001b[0m         \u001b[38;5;28;01mraise\u001b[39;00m exc\u001b[38;5;241m.\u001b[39mwith_traceback(\u001b[38;5;28;01mNone\u001b[39;00m)\n\u001b[1;32m   1142\u001b[0m \u001b[38;5;28;01melse\u001b[39;00m:\n",
      "\u001b[0;31mParseException\u001b[0m: Expected end of text, found 'CA'  (at char 5), (line:1, col:6)",
      "\nDuring handling of the above exception, another exception occurred:\n",
      "\u001b[0;31mValueError\u001b[0m                                Traceback (most recent call last)",
      "Cell \u001b[0;32mIn [12], line 1\u001b[0m\n\u001b[0;32m----> 1\u001b[0m pdb_crystal \u001b[38;5;241m=\u001b[39m crystal\u001b[38;5;241m.\u001b[39msuperpose(crystal, \u001b[38;5;241m0\u001b[39m, atom_indices\u001b[38;5;241m=\u001b[39m\u001b[43mcrystal\u001b[49m\u001b[38;5;241;43m.\u001b[39;49m\u001b[43mtop\u001b[49m\u001b[38;5;241;43m.\u001b[39;49m\u001b[43mselect\u001b[49m\u001b[43m(\u001b[49m\u001b[43mselect_1\u001b[49m\u001b[43m)\u001b[49m)\n",
      "File \u001b[0;32m/ext3/miniconda3/lib/python3.9/site-packages/mdtraj/core/topology.py:1073\u001b[0m, in \u001b[0;36mTopology.select\u001b[0;34m(self, selection_string)\u001b[0m\n\u001b[1;32m   1050\u001b[0m \u001b[38;5;28;01mdef\u001b[39;00m \u001b[38;5;21mselect\u001b[39m(\u001b[38;5;28mself\u001b[39m, selection_string):\n\u001b[1;32m   1051\u001b[0m     \u001b[38;5;124;03m\"\"\"Execute a selection against the topology\u001b[39;00m\n\u001b[1;32m   1052\u001b[0m \n\u001b[1;32m   1053\u001b[0m \u001b[38;5;124;03m    Parameters\u001b[39;00m\n\u001b[0;32m   (...)\u001b[0m\n\u001b[1;32m   1070\u001b[0m \u001b[38;5;124;03m    select_expression, mdtraj.core.selection.parse_selection\u001b[39;00m\n\u001b[1;32m   1071\u001b[0m \u001b[38;5;124;03m    \"\"\"\u001b[39;00m\n\u001b[0;32m-> 1073\u001b[0m     filter_func \u001b[38;5;241m=\u001b[39m \u001b[43mparse_selection\u001b[49m\u001b[43m(\u001b[49m\u001b[43mselection_string\u001b[49m\u001b[43m)\u001b[49m\u001b[38;5;241m.\u001b[39mexpr\n\u001b[1;32m   1074\u001b[0m     indices \u001b[38;5;241m=\u001b[39m np\u001b[38;5;241m.\u001b[39marray([a\u001b[38;5;241m.\u001b[39mindex \u001b[38;5;28;01mfor\u001b[39;00m a \u001b[38;5;129;01min\u001b[39;00m \u001b[38;5;28mself\u001b[39m\u001b[38;5;241m.\u001b[39matoms \u001b[38;5;28;01mif\u001b[39;00m filter_func(a)])\n\u001b[1;32m   1075\u001b[0m     \u001b[38;5;28;01mreturn\u001b[39;00m indices\n",
      "File \u001b[0;32m/ext3/miniconda3/lib/python3.9/site-packages/mdtraj/core/selection.py:378\u001b[0m, in \u001b[0;36mparse_selection.__call__\u001b[0;34m(self, selection)\u001b[0m\n\u001b[1;32m    375\u001b[0m     msg \u001b[38;5;241m=\u001b[39m \u001b[38;5;28mstr\u001b[39m(e)\n\u001b[1;32m    376\u001b[0m     lines \u001b[38;5;241m=\u001b[39m [\u001b[38;5;124m\"\u001b[39m\u001b[38;5;132;01m%s\u001b[39;00m\u001b[38;5;124m: \u001b[39m\u001b[38;5;132;01m%s\u001b[39;00m\u001b[38;5;124m\"\u001b[39m \u001b[38;5;241m%\u001b[39m (msg, selection),\n\u001b[1;32m    377\u001b[0m              \u001b[38;5;124m\"\u001b[39m\u001b[38;5;124m \u001b[39m\u001b[38;5;124m\"\u001b[39m \u001b[38;5;241m*\u001b[39m (\u001b[38;5;241m12\u001b[39m \u001b[38;5;241m+\u001b[39m \u001b[38;5;28mlen\u001b[39m(\u001b[38;5;124m\"\u001b[39m\u001b[38;5;132;01m%s\u001b[39;00m\u001b[38;5;124m: \u001b[39m\u001b[38;5;124m\"\u001b[39m \u001b[38;5;241m%\u001b[39m msg) \u001b[38;5;241m+\u001b[39m e\u001b[38;5;241m.\u001b[39mloc) \u001b[38;5;241m+\u001b[39m \u001b[38;5;124m\"\u001b[39m\u001b[38;5;124m^^^\u001b[39m\u001b[38;5;124m\"\u001b[39m]\n\u001b[0;32m--> 378\u001b[0m     \u001b[38;5;28;01mraise\u001b[39;00m \u001b[38;5;167;01mValueError\u001b[39;00m(\u001b[38;5;124m'\u001b[39m\u001b[38;5;130;01m\\n\u001b[39;00m\u001b[38;5;124m'\u001b[39m\u001b[38;5;241m.\u001b[39mjoin(lines))\n\u001b[1;32m    380\u001b[0m \u001b[38;5;66;03m# Change __ATOM__ in function bodies. It must bind to the arg\u001b[39;00m\n\u001b[1;32m    381\u001b[0m \u001b[38;5;66;03m# name specified below (i.e. 'atom')\u001b[39;00m\n\u001b[1;32m    382\u001b[0m astnode \u001b[38;5;241m=\u001b[39m \u001b[38;5;28mself\u001b[39m\u001b[38;5;241m.\u001b[39mtransformer\u001b[38;5;241m.\u001b[39mvisit(deepcopy(parse_result[\u001b[38;5;241m0\u001b[39m]\u001b[38;5;241m.\u001b[39mast()))\n",
      "\u001b[0;31mValueError\u001b[0m: Expected end of text, found 'CA'  (at char 5), (line:1, col:6): Name CA\n                                                                                 ^^^"
     ]
    }
   ],
   "source": [
    "pdb_crystal = crystal.superpose(crystal, 0, atom_indices=crystal.top.select(select_1))"
   ]
  },
  {
   "cell_type": "code",
   "execution_count": null,
   "metadata": {},
   "outputs": [],
   "source": []
  }
 ],
 "metadata": {
  "kernelspec": {
   "display_name": "lab_env_2023",
   "language": "python",
   "name": "lab_env_2023"
  },
  "language_info": {
   "codemirror_mode": {
    "name": "ipython",
    "version": 3
   },
   "file_extension": ".py",
   "mimetype": "text/x-python",
   "name": "python",
   "nbconvert_exporter": "python",
   "pygments_lexer": "ipython3",
   "version": "3.9.12"
  }
 },
 "nbformat": 4,
 "nbformat_minor": 4
}
